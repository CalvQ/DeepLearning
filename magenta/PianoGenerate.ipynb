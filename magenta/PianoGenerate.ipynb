{
 "cells": [
  {
   "cell_type": "code",
   "execution_count": null,
   "metadata": {},
   "outputs": [],
   "source": [
    "#@title Setup Environment\n",
    "#@markdown Copy model checkpoints and some auxiliary data from\n",
    "#@markdown Google Cloud Storage.  Also install and import\n",
    "#@markdown Python dependencies needed for running the\n",
    "#@markdown Transformer models.\n",
    "#@markdown\n",
    "#@markdown This cell may take a few minutes to run.\n",
    "\n",
    "print('Copying checkpoints and Salamander piano SoundFont (via https://sites.google.com/site/soundfonts4u) from GCS...')\n",
    "!gsutil -q -m cp -r gs://magentadata/models/music_transformer/* /content/\n",
    "!gsutil -q -m cp gs://magentadata/soundfonts/Yamaha-C5-Salamander-JNv5.1.sf2 /content/\n",
    "\n",
    "print('Installing dependencies...')\n",
    "!apt-get update -qq && apt-get install -qq libfluidsynth1 build-essential libasound2-dev libjack-dev\n",
    "!pip install -qU google-cloud magenta pyfluidsynth\n",
    "\n",
    "import ctypes.util\n",
    "def proxy_find_library(lib):\n",
    "  if lib == 'fluidsynth':\n",
    "    return 'libfluidsynth.so.1'\n",
    "  else:\n",
    "    return ctypes.util.find_library(lib)\n",
    "ctypes.util.find_library = proxy_find_library\n",
    "\n",
    "print('Importing libraries...')\n",
    "\n",
    "import numpy as np\n",
    "import os\n",
    "import tensorflow as tf\n",
    "\n",
    "from google.colab import files\n",
    "\n",
    "from tensor2tensor import models\n",
    "from tensor2tensor import problems\n",
    "from tensor2tensor.data_generators import text_encoder\n",
    "from tensor2tensor.utils import decoding\n",
    "from tensor2tensor.utils import trainer_lib\n",
    "\n",
    "import magenta.music as mm\n",
    "from magenta.models.score2perf import score2perf\n",
    "\n",
    "print('Done!')"
   ]
  }
 ],
 "metadata": {
  "language_info": {
   "codemirror_mode": {
    "name": "ipython",
    "version": 3
   },
   "file_extension": ".py",
   "mimetype": "text/x-python",
   "name": "python",
   "nbconvert_exporter": "python",
   "pygments_lexer": "ipython3",
   "version": 3
  },
  "orig_nbformat": 2
 },
 "nbformat": 4,
 "nbformat_minor": 2
}